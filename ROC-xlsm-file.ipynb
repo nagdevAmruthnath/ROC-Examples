{
 "cells": [
  {
   "cell_type": "markdown",
   "metadata": {},
   "source": [
    "## ROC Examples\n",
    "This documentation shows how to run ROC algorithm with different file structures. Here we will discuss on how to load xlsm files, Excel files etc. \n",
    "\n",
    "#### Install ROC package in R"
   ]
  },
  {
   "cell_type": "code",
   "execution_count": 17,
   "metadata": {},
   "outputs": [
    {
     "name": "stderr",
     "output_type": "stream",
     "text": [
      "Skipping install of 'ROC' from a github remote, the SHA1 (8e26bde7) has not changed since last install.\n",
      "  Use `force = TRUE` to force installation\n"
     ]
    }
   ],
   "source": [
    "# supress warnings\n",
    "options(warn=-1)\n",
    "\n",
    "# install ROC package\n",
    "devtools::install_github(\"nagdevAmruthnath/Modified-Rank-Order-Clustering\")\n",
    "install.packages(\"xlsx\")"
   ]
  },
  {
   "cell_type": "markdown",
   "metadata": {},
   "source": [
    "#### Load Library"
   ]
  },
  {
   "cell_type": "code",
   "execution_count": 1,
   "metadata": {},
   "outputs": [],
   "source": [
    "library(ROC)\n",
    "library(xlsx)"
   ]
  },
  {
   "cell_type": "markdown",
   "metadata": {},
   "source": [
    "#### Load the data"
   ]
  },
  {
   "cell_type": "code",
   "execution_count": 4,
   "metadata": {},
   "outputs": [
    {
     "data": {
      "text/html": [
       "<table>\n",
       "<caption>A data.frame: 14 × 15</caption>\n",
       "<thead>\n",
       "\t<tr><th scope=col>X1</th><th scope=col>X0</th><th scope=col>X1.1</th><th scope=col>X1.2</th><th scope=col>X1.3</th><th scope=col>X0.1</th><th scope=col>X1.4</th><th scope=col>X1.5</th><th scope=col>X0.2</th><th scope=col>X0.3</th><th scope=col>X1.6</th><th scope=col>X0.4</th><th scope=col>X0.5</th><th scope=col>X0.6</th><th scope=col>X1.7</th></tr>\n",
       "\t<tr><th scope=col>&lt;dbl&gt;</th><th scope=col>&lt;dbl&gt;</th><th scope=col>&lt;dbl&gt;</th><th scope=col>&lt;dbl&gt;</th><th scope=col>&lt;dbl&gt;</th><th scope=col>&lt;dbl&gt;</th><th scope=col>&lt;dbl&gt;</th><th scope=col>&lt;dbl&gt;</th><th scope=col>&lt;dbl&gt;</th><th scope=col>&lt;dbl&gt;</th><th scope=col>&lt;dbl&gt;</th><th scope=col>&lt;dbl&gt;</th><th scope=col>&lt;dbl&gt;</th><th scope=col>&lt;dbl&gt;</th><th scope=col>&lt;dbl&gt;</th></tr>\n",
       "</thead>\n",
       "<tbody>\n",
       "\t<tr><td>1</td><td>0</td><td>1</td><td>1</td><td>0</td><td>1</td><td>1</td><td>0</td><td>0</td><td>1</td><td>1</td><td>1</td><td>1</td><td>0</td><td>1</td></tr>\n",
       "\t<tr><td>1</td><td>0</td><td>0</td><td>0</td><td>1</td><td>0</td><td>1</td><td>0</td><td>1</td><td>1</td><td>0</td><td>1</td><td>0</td><td>0</td><td>0</td></tr>\n",
       "\t<tr><td>1</td><td>1</td><td>0</td><td>1</td><td>1</td><td>0</td><td>1</td><td>1</td><td>1</td><td>0</td><td>1</td><td>1</td><td>1</td><td>1</td><td>0</td></tr>\n",
       "\t<tr><td>1</td><td>0</td><td>0</td><td>1</td><td>1</td><td>0</td><td>0</td><td>0</td><td>1</td><td>1</td><td>0</td><td>1</td><td>1</td><td>1</td><td>0</td></tr>\n",
       "\t<tr><td>0</td><td>0</td><td>1</td><td>1</td><td>1</td><td>0</td><td>1</td><td>1</td><td>1</td><td>1</td><td>0</td><td>1</td><td>1</td><td>0</td><td>1</td></tr>\n",
       "\t<tr><td>1</td><td>1</td><td>0</td><td>1</td><td>0</td><td>1</td><td>0</td><td>1</td><td>0</td><td>0</td><td>0</td><td>0</td><td>0</td><td>0</td><td>1</td></tr>\n",
       "\t<tr><td>0</td><td>0</td><td>1</td><td>1</td><td>0</td><td>1</td><td>1</td><td>1</td><td>0</td><td>0</td><td>0</td><td>0</td><td>0</td><td>1</td><td>0</td></tr>\n",
       "\t<tr><td>1</td><td>1</td><td>0</td><td>0</td><td>0</td><td>1</td><td>0</td><td>0</td><td>0</td><td>1</td><td>1</td><td>0</td><td>1</td><td>1</td><td>1</td></tr>\n",
       "\t<tr><td>0</td><td>0</td><td>1</td><td>1</td><td>0</td><td>1</td><td>0</td><td>0</td><td>0</td><td>1</td><td>0</td><td>0</td><td>1</td><td>0</td><td>1</td></tr>\n",
       "\t<tr><td>0</td><td>0</td><td>1</td><td>1</td><td>0</td><td>1</td><td>1</td><td>0</td><td>0</td><td>0</td><td>0</td><td>1</td><td>0</td><td>1</td><td>0</td></tr>\n",
       "\t<tr><td>0</td><td>0</td><td>0</td><td>0</td><td>0</td><td>1</td><td>1</td><td>1</td><td>0</td><td>0</td><td>0</td><td>1</td><td>0</td><td>0</td><td>0</td></tr>\n",
       "\t<tr><td>0</td><td>1</td><td>0</td><td>1</td><td>0</td><td>0</td><td>1</td><td>0</td><td>1</td><td>1</td><td>0</td><td>1</td><td>0</td><td>1</td><td>0</td></tr>\n",
       "\t<tr><td>0</td><td>1</td><td>0</td><td>1</td><td>0</td><td>1</td><td>1</td><td>1</td><td>1</td><td>1</td><td>0</td><td>0</td><td>0</td><td>0</td><td>1</td></tr>\n",
       "\t<tr><td>1</td><td>0</td><td>0</td><td>0</td><td>1</td><td>0</td><td>0</td><td>0</td><td>1</td><td>1</td><td>0</td><td>0</td><td>0</td><td>1</td><td>1</td></tr>\n",
       "</tbody>\n",
       "</table>\n"
      ],
      "text/latex": [
       "A data.frame: 14 × 15\n",
       "\\begin{tabular}{r|lllllllllllllll}\n",
       " X1 & X0 & X1.1 & X1.2 & X1.3 & X0.1 & X1.4 & X1.5 & X0.2 & X0.3 & X1.6 & X0.4 & X0.5 & X0.6 & X1.7\\\\\n",
       " <dbl> & <dbl> & <dbl> & <dbl> & <dbl> & <dbl> & <dbl> & <dbl> & <dbl> & <dbl> & <dbl> & <dbl> & <dbl> & <dbl> & <dbl>\\\\\n",
       "\\hline\n",
       "\t 1 & 0 & 1 & 1 & 0 & 1 & 1 & 0 & 0 & 1 & 1 & 1 & 1 & 0 & 1\\\\\n",
       "\t 1 & 0 & 0 & 0 & 1 & 0 & 1 & 0 & 1 & 1 & 0 & 1 & 0 & 0 & 0\\\\\n",
       "\t 1 & 1 & 0 & 1 & 1 & 0 & 1 & 1 & 1 & 0 & 1 & 1 & 1 & 1 & 0\\\\\n",
       "\t 1 & 0 & 0 & 1 & 1 & 0 & 0 & 0 & 1 & 1 & 0 & 1 & 1 & 1 & 0\\\\\n",
       "\t 0 & 0 & 1 & 1 & 1 & 0 & 1 & 1 & 1 & 1 & 0 & 1 & 1 & 0 & 1\\\\\n",
       "\t 1 & 1 & 0 & 1 & 0 & 1 & 0 & 1 & 0 & 0 & 0 & 0 & 0 & 0 & 1\\\\\n",
       "\t 0 & 0 & 1 & 1 & 0 & 1 & 1 & 1 & 0 & 0 & 0 & 0 & 0 & 1 & 0\\\\\n",
       "\t 1 & 1 & 0 & 0 & 0 & 1 & 0 & 0 & 0 & 1 & 1 & 0 & 1 & 1 & 1\\\\\n",
       "\t 0 & 0 & 1 & 1 & 0 & 1 & 0 & 0 & 0 & 1 & 0 & 0 & 1 & 0 & 1\\\\\n",
       "\t 0 & 0 & 1 & 1 & 0 & 1 & 1 & 0 & 0 & 0 & 0 & 1 & 0 & 1 & 0\\\\\n",
       "\t 0 & 0 & 0 & 0 & 0 & 1 & 1 & 1 & 0 & 0 & 0 & 1 & 0 & 0 & 0\\\\\n",
       "\t 0 & 1 & 0 & 1 & 0 & 0 & 1 & 0 & 1 & 1 & 0 & 1 & 0 & 1 & 0\\\\\n",
       "\t 0 & 1 & 0 & 1 & 0 & 1 & 1 & 1 & 1 & 1 & 0 & 0 & 0 & 0 & 1\\\\\n",
       "\t 1 & 0 & 0 & 0 & 1 & 0 & 0 & 0 & 1 & 1 & 0 & 0 & 0 & 1 & 1\\\\\n",
       "\\end{tabular}\n"
      ],
      "text/markdown": [
       "\n",
       "A data.frame: 14 × 15\n",
       "\n",
       "| X1 &lt;dbl&gt; | X0 &lt;dbl&gt; | X1.1 &lt;dbl&gt; | X1.2 &lt;dbl&gt; | X1.3 &lt;dbl&gt; | X0.1 &lt;dbl&gt; | X1.4 &lt;dbl&gt; | X1.5 &lt;dbl&gt; | X0.2 &lt;dbl&gt; | X0.3 &lt;dbl&gt; | X1.6 &lt;dbl&gt; | X0.4 &lt;dbl&gt; | X0.5 &lt;dbl&gt; | X0.6 &lt;dbl&gt; | X1.7 &lt;dbl&gt; |\n",
       "|---|---|---|---|---|---|---|---|---|---|---|---|---|---|---|\n",
       "| 1 | 0 | 1 | 1 | 0 | 1 | 1 | 0 | 0 | 1 | 1 | 1 | 1 | 0 | 1 |\n",
       "| 1 | 0 | 0 | 0 | 1 | 0 | 1 | 0 | 1 | 1 | 0 | 1 | 0 | 0 | 0 |\n",
       "| 1 | 1 | 0 | 1 | 1 | 0 | 1 | 1 | 1 | 0 | 1 | 1 | 1 | 1 | 0 |\n",
       "| 1 | 0 | 0 | 1 | 1 | 0 | 0 | 0 | 1 | 1 | 0 | 1 | 1 | 1 | 0 |\n",
       "| 0 | 0 | 1 | 1 | 1 | 0 | 1 | 1 | 1 | 1 | 0 | 1 | 1 | 0 | 1 |\n",
       "| 1 | 1 | 0 | 1 | 0 | 1 | 0 | 1 | 0 | 0 | 0 | 0 | 0 | 0 | 1 |\n",
       "| 0 | 0 | 1 | 1 | 0 | 1 | 1 | 1 | 0 | 0 | 0 | 0 | 0 | 1 | 0 |\n",
       "| 1 | 1 | 0 | 0 | 0 | 1 | 0 | 0 | 0 | 1 | 1 | 0 | 1 | 1 | 1 |\n",
       "| 0 | 0 | 1 | 1 | 0 | 1 | 0 | 0 | 0 | 1 | 0 | 0 | 1 | 0 | 1 |\n",
       "| 0 | 0 | 1 | 1 | 0 | 1 | 1 | 0 | 0 | 0 | 0 | 1 | 0 | 1 | 0 |\n",
       "| 0 | 0 | 0 | 0 | 0 | 1 | 1 | 1 | 0 | 0 | 0 | 1 | 0 | 0 | 0 |\n",
       "| 0 | 1 | 0 | 1 | 0 | 0 | 1 | 0 | 1 | 1 | 0 | 1 | 0 | 1 | 0 |\n",
       "| 0 | 1 | 0 | 1 | 0 | 1 | 1 | 1 | 1 | 1 | 0 | 0 | 0 | 0 | 1 |\n",
       "| 1 | 0 | 0 | 0 | 1 | 0 | 0 | 0 | 1 | 1 | 0 | 0 | 0 | 1 | 1 |\n",
       "\n"
      ],
      "text/plain": [
       "   X1 X0 X1.1 X1.2 X1.3 X0.1 X1.4 X1.5 X0.2 X0.3 X1.6 X0.4 X0.5 X0.6 X1.7\n",
       "1  1  0  1    1    0    1    1    0    0    1    1    1    1    0    1   \n",
       "2  1  0  0    0    1    0    1    0    1    1    0    1    0    0    0   \n",
       "3  1  1  0    1    1    0    1    1    1    0    1    1    1    1    0   \n",
       "4  1  0  0    1    1    0    0    0    1    1    0    1    1    1    0   \n",
       "5  0  0  1    1    1    0    1    1    1    1    0    1    1    0    1   \n",
       "6  1  1  0    1    0    1    0    1    0    0    0    0    0    0    1   \n",
       "7  0  0  1    1    0    1    1    1    0    0    0    0    0    1    0   \n",
       "8  1  1  0    0    0    1    0    0    0    1    1    0    1    1    1   \n",
       "9  0  0  1    1    0    1    0    0    0    1    0    0    1    0    1   \n",
       "10 0  0  1    1    0    1    1    0    0    0    0    1    0    1    0   \n",
       "11 0  0  0    0    0    1    1    1    0    0    0    1    0    0    0   \n",
       "12 0  1  0    1    0    0    1    0    1    1    0    1    0    1    0   \n",
       "13 0  1  0    1    0    1    1    1    1    1    0    0    0    0    1   \n",
       "14 1  0  0    0    1    0    0    0    1    1    0    0    0    1    1   "
      ]
     },
     "metadata": {},
     "output_type": "display_data"
    }
   ],
   "source": [
    "# load data using read table function\n",
    "data = read.xlsx(\"ROC.xlsm\", sheetName = \"ROC\")\n",
    "\n",
    "# view data\n",
    "data"
   ]
  },
  {
   "cell_type": "markdown",
   "metadata": {},
   "source": [
    "#### Perform ROC algorithm on data"
   ]
  },
  {
   "cell_type": "code",
   "execution_count": 5,
   "metadata": {},
   "outputs": [
    {
     "name": "stderr",
     "output_type": "stream",
     "text": [
      "Warning message in if (cw[, ncol(cw)] == old[, ncol(old)]) {:\n",
      "“the condition has length > 1 and only the first element will be used”Warning message in if (cw[, ncol(cw)] == old[, ncol(old)]) {:\n",
      "“the condition has length > 1 and only the first element will be used”Warning message in if (cw[(nrow(cw)), 1:col] == old[(nrow(cw)), 1:col]) {:\n",
      "“the condition has length > 1 and only the first element will be used”"
     ]
    },
    {
     "data": {
      "text/html": [
       "<table>\n",
       "<caption>A data.frame: 15 × 16</caption>\n",
       "<thead>\n",
       "\t<tr><th></th><th scope=col>1</th><th scope=col>2</th><th scope=col>4</th><th scope=col>8</th><th scope=col>13</th><th scope=col>11</th><th scope=col>14</th><th scope=col>12</th><th scope=col>7</th><th scope=col>9</th><th scope=col>5</th><th scope=col>15</th><th scope=col>6</th><th scope=col>10</th><th scope=col>3</th><th scope=col>V16</th></tr>\n",
       "\t<tr><th></th><th scope=col>&lt;dbl&gt;</th><th scope=col>&lt;dbl&gt;</th><th scope=col>&lt;dbl&gt;</th><th scope=col>&lt;dbl&gt;</th><th scope=col>&lt;dbl&gt;</th><th scope=col>&lt;dbl&gt;</th><th scope=col>&lt;dbl&gt;</th><th scope=col>&lt;dbl&gt;</th><th scope=col>&lt;dbl&gt;</th><th scope=col>&lt;dbl&gt;</th><th scope=col>&lt;dbl&gt;</th><th scope=col>&lt;dbl&gt;</th><th scope=col>&lt;dbl&gt;</th><th scope=col>&lt;dbl&gt;</th><th scope=col>&lt;dbl&gt;</th><th scope=col>&lt;dbl&gt;</th></tr>\n",
       "</thead>\n",
       "<tbody>\n",
       "\t<tr><th scope=row>3</th><td>    1</td><td>    1</td><td>    1</td><td>    1</td><td>    1</td><td>    1</td><td>    1</td><td>    1</td><td>    1</td><td>    1</td><td>    1</td><td>    0</td><td>    0</td><td>   0</td><td>   0</td><td>32752</td></tr>\n",
       "\t<tr><th scope=row>6</th><td>    1</td><td>    1</td><td>    1</td><td>    1</td><td>    0</td><td>    0</td><td>    0</td><td>    0</td><td>    0</td><td>    0</td><td>    0</td><td>    1</td><td>    1</td><td>   0</td><td>   0</td><td>30732</td></tr>\n",
       "\t<tr><th scope=row>8</th><td>    1</td><td>    1</td><td>    0</td><td>    0</td><td>    1</td><td>    1</td><td>    1</td><td>    0</td><td>    0</td><td>    0</td><td>    0</td><td>    1</td><td>    1</td><td>   1</td><td>   0</td><td>26382</td></tr>\n",
       "\t<tr><th scope=row>1</th><td>    1</td><td>    0</td><td>    1</td><td>    0</td><td>    1</td><td>    1</td><td>    0</td><td>    1</td><td>    1</td><td>    0</td><td>    0</td><td>    1</td><td>    1</td><td>   1</td><td>   1</td><td>22223</td></tr>\n",
       "\t<tr><th scope=row>4</th><td>    1</td><td>    0</td><td>    1</td><td>    0</td><td>    1</td><td>    0</td><td>    1</td><td>    1</td><td>    0</td><td>    1</td><td>    1</td><td>    0</td><td>    0</td><td>   1</td><td>   0</td><td>21938</td></tr>\n",
       "\t<tr><th scope=row>14</th><td>    1</td><td>    0</td><td>    0</td><td>    0</td><td>    0</td><td>    0</td><td>    1</td><td>    0</td><td>    0</td><td>    1</td><td>    1</td><td>    1</td><td>    0</td><td>   1</td><td>   0</td><td>16698</td></tr>\n",
       "\t<tr><th scope=row>2</th><td>    1</td><td>    0</td><td>    0</td><td>    0</td><td>    0</td><td>    0</td><td>    0</td><td>    1</td><td>    1</td><td>    1</td><td>    1</td><td>    0</td><td>    0</td><td>   1</td><td>   0</td><td>16626</td></tr>\n",
       "\t<tr><th scope=row>13</th><td>    0</td><td>    1</td><td>    1</td><td>    1</td><td>    0</td><td>    0</td><td>    0</td><td>    0</td><td>    1</td><td>    1</td><td>    0</td><td>    1</td><td>    1</td><td>   1</td><td>   0</td><td>14446</td></tr>\n",
       "\t<tr><th scope=row>12</th><td>    0</td><td>    1</td><td>    1</td><td>    0</td><td>    0</td><td>    0</td><td>    1</td><td>    1</td><td>    1</td><td>    1</td><td>    0</td><td>    0</td><td>    0</td><td>   1</td><td>   0</td><td>12770</td></tr>\n",
       "\t<tr><th scope=row>5</th><td>    0</td><td>    0</td><td>    1</td><td>    1</td><td>    1</td><td>    0</td><td>    0</td><td>    1</td><td>    1</td><td>    1</td><td>    1</td><td>    1</td><td>    0</td><td>   1</td><td>   1</td><td> 7419</td></tr>\n",
       "\t<tr><th scope=row>7</th><td>    0</td><td>    0</td><td>    1</td><td>    1</td><td>    0</td><td>    0</td><td>    1</td><td>    0</td><td>    1</td><td>    0</td><td>    0</td><td>    0</td><td>    1</td><td>   0</td><td>   1</td><td> 6469</td></tr>\n",
       "\t<tr><th scope=row>9</th><td>    0</td><td>    0</td><td>    1</td><td>    0</td><td>    1</td><td>    0</td><td>    0</td><td>    0</td><td>    0</td><td>    0</td><td>    0</td><td>    1</td><td>    1</td><td>   1</td><td>   1</td><td> 5135</td></tr>\n",
       "\t<tr><th scope=row>10</th><td>    0</td><td>    0</td><td>    1</td><td>    0</td><td>    0</td><td>    0</td><td>    1</td><td>    1</td><td>    1</td><td>    0</td><td>    0</td><td>    0</td><td>    1</td><td>   0</td><td>   1</td><td> 4549</td></tr>\n",
       "\t<tr><th scope=row>11</th><td>    0</td><td>    0</td><td>    0</td><td>    1</td><td>    0</td><td>    0</td><td>    0</td><td>    1</td><td>    1</td><td>    0</td><td>    0</td><td>    0</td><td>    1</td><td>   0</td><td>   0</td><td> 2244</td></tr>\n",
       "\t<tr><th scope=row>15</th><td>32512</td><td>28864</td><td>27900</td><td>24754</td><td>23592</td><td>22528</td><td>22100</td><td>19814</td><td>18934</td><td>18400</td><td>18208</td><td>15016</td><td>14494</td><td>8168</td><td>2108</td><td>   NA</td></tr>\n",
       "</tbody>\n",
       "</table>\n"
      ],
      "text/latex": [
       "A data.frame: 15 × 16\n",
       "\\begin{tabular}{r|llllllllllllllll}\n",
       "  & 1 & 2 & 4 & 8 & 13 & 11 & 14 & 12 & 7 & 9 & 5 & 15 & 6 & 10 & 3 & V16\\\\\n",
       "  & <dbl> & <dbl> & <dbl> & <dbl> & <dbl> & <dbl> & <dbl> & <dbl> & <dbl> & <dbl> & <dbl> & <dbl> & <dbl> & <dbl> & <dbl> & <dbl>\\\\\n",
       "\\hline\n",
       "\t3 &     1 &     1 &     1 &     1 &     1 &     1 &     1 &     1 &     1 &     1 &     1 &     0 &     0 &    0 &    0 & 32752\\\\\n",
       "\t6 &     1 &     1 &     1 &     1 &     0 &     0 &     0 &     0 &     0 &     0 &     0 &     1 &     1 &    0 &    0 & 30732\\\\\n",
       "\t8 &     1 &     1 &     0 &     0 &     1 &     1 &     1 &     0 &     0 &     0 &     0 &     1 &     1 &    1 &    0 & 26382\\\\\n",
       "\t1 &     1 &     0 &     1 &     0 &     1 &     1 &     0 &     1 &     1 &     0 &     0 &     1 &     1 &    1 &    1 & 22223\\\\\n",
       "\t4 &     1 &     0 &     1 &     0 &     1 &     0 &     1 &     1 &     0 &     1 &     1 &     0 &     0 &    1 &    0 & 21938\\\\\n",
       "\t14 &     1 &     0 &     0 &     0 &     0 &     0 &     1 &     0 &     0 &     1 &     1 &     1 &     0 &    1 &    0 & 16698\\\\\n",
       "\t2 &     1 &     0 &     0 &     0 &     0 &     0 &     0 &     1 &     1 &     1 &     1 &     0 &     0 &    1 &    0 & 16626\\\\\n",
       "\t13 &     0 &     1 &     1 &     1 &     0 &     0 &     0 &     0 &     1 &     1 &     0 &     1 &     1 &    1 &    0 & 14446\\\\\n",
       "\t12 &     0 &     1 &     1 &     0 &     0 &     0 &     1 &     1 &     1 &     1 &     0 &     0 &     0 &    1 &    0 & 12770\\\\\n",
       "\t5 &     0 &     0 &     1 &     1 &     1 &     0 &     0 &     1 &     1 &     1 &     1 &     1 &     0 &    1 &    1 &  7419\\\\\n",
       "\t7 &     0 &     0 &     1 &     1 &     0 &     0 &     1 &     0 &     1 &     0 &     0 &     0 &     1 &    0 &    1 &  6469\\\\\n",
       "\t9 &     0 &     0 &     1 &     0 &     1 &     0 &     0 &     0 &     0 &     0 &     0 &     1 &     1 &    1 &    1 &  5135\\\\\n",
       "\t10 &     0 &     0 &     1 &     0 &     0 &     0 &     1 &     1 &     1 &     0 &     0 &     0 &     1 &    0 &    1 &  4549\\\\\n",
       "\t11 &     0 &     0 &     0 &     1 &     0 &     0 &     0 &     1 &     1 &     0 &     0 &     0 &     1 &    0 &    0 &  2244\\\\\n",
       "\t15 & 32512 & 28864 & 27900 & 24754 & 23592 & 22528 & 22100 & 19814 & 18934 & 18400 & 18208 & 15016 & 14494 & 8168 & 2108 &    NA\\\\\n",
       "\\end{tabular}\n"
      ],
      "text/markdown": [
       "\n",
       "A data.frame: 15 × 16\n",
       "\n",
       "| <!--/--> | 1 &lt;dbl&gt; | 2 &lt;dbl&gt; | 4 &lt;dbl&gt; | 8 &lt;dbl&gt; | 13 &lt;dbl&gt; | 11 &lt;dbl&gt; | 14 &lt;dbl&gt; | 12 &lt;dbl&gt; | 7 &lt;dbl&gt; | 9 &lt;dbl&gt; | 5 &lt;dbl&gt; | 15 &lt;dbl&gt; | 6 &lt;dbl&gt; | 10 &lt;dbl&gt; | 3 &lt;dbl&gt; | V16 &lt;dbl&gt; |\n",
       "|---|---|---|---|---|---|---|---|---|---|---|---|---|---|---|---|---|\n",
       "| 3 |     1 |     1 |     1 |     1 |     1 |     1 |     1 |     1 |     1 |     1 |     1 |     0 |     0 |    0 |    0 | 32752 |\n",
       "| 6 |     1 |     1 |     1 |     1 |     0 |     0 |     0 |     0 |     0 |     0 |     0 |     1 |     1 |    0 |    0 | 30732 |\n",
       "| 8 |     1 |     1 |     0 |     0 |     1 |     1 |     1 |     0 |     0 |     0 |     0 |     1 |     1 |    1 |    0 | 26382 |\n",
       "| 1 |     1 |     0 |     1 |     0 |     1 |     1 |     0 |     1 |     1 |     0 |     0 |     1 |     1 |    1 |    1 | 22223 |\n",
       "| 4 |     1 |     0 |     1 |     0 |     1 |     0 |     1 |     1 |     0 |     1 |     1 |     0 |     0 |    1 |    0 | 21938 |\n",
       "| 14 |     1 |     0 |     0 |     0 |     0 |     0 |     1 |     0 |     0 |     1 |     1 |     1 |     0 |    1 |    0 | 16698 |\n",
       "| 2 |     1 |     0 |     0 |     0 |     0 |     0 |     0 |     1 |     1 |     1 |     1 |     0 |     0 |    1 |    0 | 16626 |\n",
       "| 13 |     0 |     1 |     1 |     1 |     0 |     0 |     0 |     0 |     1 |     1 |     0 |     1 |     1 |    1 |    0 | 14446 |\n",
       "| 12 |     0 |     1 |     1 |     0 |     0 |     0 |     1 |     1 |     1 |     1 |     0 |     0 |     0 |    1 |    0 | 12770 |\n",
       "| 5 |     0 |     0 |     1 |     1 |     1 |     0 |     0 |     1 |     1 |     1 |     1 |     1 |     0 |    1 |    1 |  7419 |\n",
       "| 7 |     0 |     0 |     1 |     1 |     0 |     0 |     1 |     0 |     1 |     0 |     0 |     0 |     1 |    0 |    1 |  6469 |\n",
       "| 9 |     0 |     0 |     1 |     0 |     1 |     0 |     0 |     0 |     0 |     0 |     0 |     1 |     1 |    1 |    1 |  5135 |\n",
       "| 10 |     0 |     0 |     1 |     0 |     0 |     0 |     1 |     1 |     1 |     0 |     0 |     0 |     1 |    0 |    1 |  4549 |\n",
       "| 11 |     0 |     0 |     0 |     1 |     0 |     0 |     0 |     1 |     1 |     0 |     0 |     0 |     1 |    0 |    0 |  2244 |\n",
       "| 15 | 32512 | 28864 | 27900 | 24754 | 23592 | 22528 | 22100 | 19814 | 18934 | 18400 | 18208 | 15016 | 14494 | 8168 | 2108 |    NA |\n",
       "\n"
      ],
      "text/plain": [
       "   1     2     4     8     13    11    14    12    7     9     5     15   \n",
       "3      1     1     1     1     1     1     1     1     1     1     1     0\n",
       "6      1     1     1     1     0     0     0     0     0     0     0     1\n",
       "8      1     1     0     0     1     1     1     0     0     0     0     1\n",
       "1      1     0     1     0     1     1     0     1     1     0     0     1\n",
       "4      1     0     1     0     1     0     1     1     0     1     1     0\n",
       "14     1     0     0     0     0     0     1     0     0     1     1     1\n",
       "2      1     0     0     0     0     0     0     1     1     1     1     0\n",
       "13     0     1     1     1     0     0     0     0     1     1     0     1\n",
       "12     0     1     1     0     0     0     1     1     1     1     0     0\n",
       "5      0     0     1     1     1     0     0     1     1     1     1     1\n",
       "7      0     0     1     1     0     0     1     0     1     0     0     0\n",
       "9      0     0     1     0     1     0     0     0     0     0     0     1\n",
       "10     0     0     1     0     0     0     1     1     1     0     0     0\n",
       "11     0     0     0     1     0     0     0     1     1     0     0     0\n",
       "15 32512 28864 27900 24754 23592 22528 22100 19814 18934 18400 18208 15016\n",
       "   6     10   3    V16  \n",
       "3      0    0    0 32752\n",
       "6      1    0    0 30732\n",
       "8      1    1    0 26382\n",
       "1      1    1    1 22223\n",
       "4      0    1    0 21938\n",
       "14     0    1    0 16698\n",
       "2      0    1    0 16626\n",
       "13     1    1    0 14446\n",
       "12     0    1    0 12770\n",
       "5      0    1    1  7419\n",
       "7      1    0    1  6469\n",
       "9      1    1    1  5135\n",
       "10     1    0    1  4549\n",
       "11     1    0    0  2244\n",
       "15 14494 8168 2108    NA"
      ]
     },
     "metadata": {},
     "output_type": "display_data"
    }
   ],
   "source": [
    "data = as.data.frame(data)\n",
    "ROC(data)"
   ]
  }
 ],
 "metadata": {
  "kernelspec": {
   "display_name": "R",
   "language": "R",
   "name": "ir"
  },
  "language_info": {
   "codemirror_mode": "r",
   "file_extension": ".r",
   "mimetype": "text/x-r-source",
   "name": "R",
   "pygments_lexer": "r",
   "version": "3.3.3"
  }
 },
 "nbformat": 4,
 "nbformat_minor": 4
}
