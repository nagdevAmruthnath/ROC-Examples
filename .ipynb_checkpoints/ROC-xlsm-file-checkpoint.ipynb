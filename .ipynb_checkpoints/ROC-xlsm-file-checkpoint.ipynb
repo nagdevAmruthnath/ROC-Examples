{
 "cells": [
  {
   "cell_type": "markdown",
   "metadata": {},
   "source": [
    "## ROC Examples\n",
    "This documentation shows how to run ROC algorithm with different file structures. Here we will discuss on how to load xlsm files, Excel files etc. \n",
    "\n",
    "#### Install ROC package in R"
   ]
  },
  {
   "cell_type": "code",
   "execution_count": 9,
   "metadata": {},
   "outputs": [
    {
     "name": "stderr",
     "output_type": "stream",
     "text": [
      "Downloading GitHub repo nagdevAmruthnath/Modified-Rank-Order-Clustering@master\n"
     ]
    },
    {
     "name": "stdout",
     "output_type": "stream",
     "text": [
      "\u001b[32m✔\u001b[39m  \u001b[38;5;247mchecking for file ‘/tmp/Rtmpnyvvsi/remotes15833a127f00/nagdevAmruthnath-Modified-Rank-Order-Clustering-681aad3/DESCRIPTION’\u001b[39m\u001b[36m\u001b[39m\n",
      "\u001b[38;5;247m─\u001b[39m\u001b[38;5;247m  \u001b[39m\u001b[38;5;247mpreparing ‘ROC’:\u001b[39m\u001b[36m\u001b[39m\n",
      "\u001b[32m✔\u001b[39m  \u001b[38;5;247mchecking DESCRIPTION meta-information\u001b[39m\u001b[36m\u001b[39m\n",
      "\u001b[32m✔\u001b[39m  \u001b[38;5;247mchecking whether ‘INDEX’ is up-to-date\u001b[39m\u001b[36m\u001b[39m\n",
      "\u001b[38;5;247m─\u001b[39m\u001b[38;5;247m  \u001b[39m\u001b[38;5;247mexcluding invalid files\u001b[39m\u001b[36m\u001b[39m\n",
      "   Subdirectory 'R' contains invalid file names:\n",
      "     ‘ROC’ ‘ROC.rdb’ ‘ROC.rdx’ ‘desktop.ini’\n",
      "   Subdirectory 'man' contains invalid file names:\n",
      "     ‘desktop.ini’\n",
      "\u001b[38;5;247m─\u001b[39m\u001b[38;5;247m  \u001b[39m\u001b[38;5;247mchecking for LF line-endings in source and make files\u001b[39m\u001b[36m\u001b[39m\n",
      "\u001b[38;5;247m─\u001b[39m\u001b[38;5;247m  \u001b[39m\u001b[38;5;247mchecking for empty or unneeded directories\u001b[39m\u001b[36m\u001b[39m\n",
      "   WARNING: Removing directory ‘ROC/Meta’ which should only occur in an\n",
      "     installed package\n",
      "   WARNING: Removing directory ‘ROC/help’ which should only occur in an\n",
      "     installed package\n",
      "   WARNING: Removing directory ‘ROC/html’ which should only occur in an\n",
      "     installed package\n",
      "\u001b[38;5;247m─\u001b[39m\u001b[38;5;247m  \u001b[39m\u001b[38;5;247mbuilding ‘ROC_0.1.0.tar.gz’\u001b[39m\u001b[36m\u001b[39m\n",
      "   \n",
      "\r"
     ]
    },
    {
     "name": "stderr",
     "output_type": "stream",
     "text": [
      "Installing package into ‘/usr/local/lib/R/site-library’\n",
      "(as ‘lib’ is unspecified)\n",
      "Installing package into ‘/usr/local/lib/R/site-library’\n",
      "(as ‘lib’ is unspecified)\n",
      "also installing the dependencies ‘hms’, ‘cellranger’, ‘progress’\n",
      "\n"
     ]
    }
   ],
   "source": [
    "# supress warnings\n",
    "options(warn=-1)\n",
    "\n",
    "# install ROC package\n",
    "devtools::install_github(\"nagdevAmruthnath/Modified-Rank-Order-Clustering\")\n",
    "install.packages(\"readxl\")"
   ]
  },
  {
   "cell_type": "markdown",
   "metadata": {},
   "source": [
    "#### Load Library"
   ]
  },
  {
   "cell_type": "code",
   "execution_count": 10,
   "metadata": {},
   "outputs": [],
   "source": [
    "library(ROC)\n",
    "library(readxl)"
   ]
  },
  {
   "cell_type": "markdown",
   "metadata": {},
   "source": [
    "#### Load the xlsm data"
   ]
  },
  {
   "cell_type": "code",
   "execution_count": 12,
   "metadata": {},
   "outputs": [
    {
     "name": "stderr",
     "output_type": "stream",
     "text": [
      "New names:\n",
      "* `` -> ...1\n",
      "* `` -> ...2\n",
      "* `` -> ...3\n",
      "* `` -> ...4\n",
      "* `` -> ...5\n",
      "* … and 10 more problems\n"
     ]
    },
    {
     "data": {
      "text/html": [
       "<table>\n",
       "<caption>A tibble: 15 × 15</caption>\n",
       "<thead>\n",
       "\t<tr><th scope=col>...1</th><th scope=col>...2</th><th scope=col>...3</th><th scope=col>...4</th><th scope=col>...5</th><th scope=col>...6</th><th scope=col>...7</th><th scope=col>...8</th><th scope=col>...9</th><th scope=col>...10</th><th scope=col>...11</th><th scope=col>...12</th><th scope=col>...13</th><th scope=col>...14</th><th scope=col>...15</th></tr>\n",
       "\t<tr><th scope=col>&lt;dbl&gt;</th><th scope=col>&lt;dbl&gt;</th><th scope=col>&lt;dbl&gt;</th><th scope=col>&lt;dbl&gt;</th><th scope=col>&lt;dbl&gt;</th><th scope=col>&lt;dbl&gt;</th><th scope=col>&lt;dbl&gt;</th><th scope=col>&lt;dbl&gt;</th><th scope=col>&lt;dbl&gt;</th><th scope=col>&lt;dbl&gt;</th><th scope=col>&lt;dbl&gt;</th><th scope=col>&lt;dbl&gt;</th><th scope=col>&lt;dbl&gt;</th><th scope=col>&lt;dbl&gt;</th><th scope=col>&lt;dbl&gt;</th></tr>\n",
       "</thead>\n",
       "<tbody>\n",
       "\t<tr><td>1</td><td>0</td><td>1</td><td>1</td><td>1</td><td>0</td><td>1</td><td>1</td><td>0</td><td>0</td><td>1</td><td>0</td><td>0</td><td>0</td><td>1</td></tr>\n",
       "\t<tr><td>1</td><td>0</td><td>1</td><td>1</td><td>0</td><td>1</td><td>1</td><td>0</td><td>0</td><td>1</td><td>1</td><td>1</td><td>1</td><td>0</td><td>1</td></tr>\n",
       "\t<tr><td>1</td><td>0</td><td>0</td><td>0</td><td>1</td><td>0</td><td>1</td><td>0</td><td>1</td><td>1</td><td>0</td><td>1</td><td>0</td><td>0</td><td>0</td></tr>\n",
       "\t<tr><td>1</td><td>1</td><td>0</td><td>1</td><td>1</td><td>0</td><td>1</td><td>1</td><td>1</td><td>0</td><td>1</td><td>1</td><td>1</td><td>1</td><td>0</td></tr>\n",
       "\t<tr><td>1</td><td>0</td><td>0</td><td>1</td><td>1</td><td>0</td><td>0</td><td>0</td><td>1</td><td>1</td><td>0</td><td>1</td><td>1</td><td>1</td><td>0</td></tr>\n",
       "\t<tr><td>0</td><td>0</td><td>1</td><td>1</td><td>1</td><td>0</td><td>1</td><td>1</td><td>1</td><td>1</td><td>0</td><td>1</td><td>1</td><td>0</td><td>1</td></tr>\n",
       "\t<tr><td>1</td><td>1</td><td>0</td><td>1</td><td>0</td><td>1</td><td>0</td><td>1</td><td>0</td><td>0</td><td>0</td><td>0</td><td>0</td><td>0</td><td>1</td></tr>\n",
       "\t<tr><td>0</td><td>0</td><td>1</td><td>1</td><td>0</td><td>1</td><td>1</td><td>1</td><td>0</td><td>0</td><td>0</td><td>0</td><td>0</td><td>1</td><td>0</td></tr>\n",
       "\t<tr><td>1</td><td>1</td><td>0</td><td>0</td><td>0</td><td>1</td><td>0</td><td>0</td><td>0</td><td>1</td><td>1</td><td>0</td><td>1</td><td>1</td><td>1</td></tr>\n",
       "\t<tr><td>0</td><td>0</td><td>1</td><td>1</td><td>0</td><td>1</td><td>0</td><td>0</td><td>0</td><td>1</td><td>0</td><td>0</td><td>1</td><td>0</td><td>1</td></tr>\n",
       "\t<tr><td>0</td><td>0</td><td>1</td><td>1</td><td>0</td><td>1</td><td>1</td><td>0</td><td>0</td><td>0</td><td>0</td><td>1</td><td>0</td><td>1</td><td>0</td></tr>\n",
       "\t<tr><td>0</td><td>0</td><td>0</td><td>0</td><td>0</td><td>1</td><td>1</td><td>1</td><td>0</td><td>0</td><td>0</td><td>1</td><td>0</td><td>0</td><td>0</td></tr>\n",
       "\t<tr><td>0</td><td>1</td><td>0</td><td>1</td><td>0</td><td>0</td><td>1</td><td>0</td><td>1</td><td>1</td><td>0</td><td>1</td><td>0</td><td>1</td><td>0</td></tr>\n",
       "\t<tr><td>0</td><td>1</td><td>0</td><td>1</td><td>0</td><td>1</td><td>1</td><td>1</td><td>1</td><td>1</td><td>0</td><td>0</td><td>0</td><td>0</td><td>1</td></tr>\n",
       "\t<tr><td>1</td><td>0</td><td>0</td><td>0</td><td>1</td><td>0</td><td>0</td><td>0</td><td>1</td><td>1</td><td>0</td><td>0</td><td>0</td><td>1</td><td>1</td></tr>\n",
       "</tbody>\n",
       "</table>\n"
      ],
      "text/latex": [
       "A tibble: 15 × 15\n",
       "\\begin{tabular}{r|lllllllllllllll}\n",
       " ...1 & ...2 & ...3 & ...4 & ...5 & ...6 & ...7 & ...8 & ...9 & ...10 & ...11 & ...12 & ...13 & ...14 & ...15\\\\\n",
       " <dbl> & <dbl> & <dbl> & <dbl> & <dbl> & <dbl> & <dbl> & <dbl> & <dbl> & <dbl> & <dbl> & <dbl> & <dbl> & <dbl> & <dbl>\\\\\n",
       "\\hline\n",
       "\t 1 & 0 & 1 & 1 & 1 & 0 & 1 & 1 & 0 & 0 & 1 & 0 & 0 & 0 & 1\\\\\n",
       "\t 1 & 0 & 1 & 1 & 0 & 1 & 1 & 0 & 0 & 1 & 1 & 1 & 1 & 0 & 1\\\\\n",
       "\t 1 & 0 & 0 & 0 & 1 & 0 & 1 & 0 & 1 & 1 & 0 & 1 & 0 & 0 & 0\\\\\n",
       "\t 1 & 1 & 0 & 1 & 1 & 0 & 1 & 1 & 1 & 0 & 1 & 1 & 1 & 1 & 0\\\\\n",
       "\t 1 & 0 & 0 & 1 & 1 & 0 & 0 & 0 & 1 & 1 & 0 & 1 & 1 & 1 & 0\\\\\n",
       "\t 0 & 0 & 1 & 1 & 1 & 0 & 1 & 1 & 1 & 1 & 0 & 1 & 1 & 0 & 1\\\\\n",
       "\t 1 & 1 & 0 & 1 & 0 & 1 & 0 & 1 & 0 & 0 & 0 & 0 & 0 & 0 & 1\\\\\n",
       "\t 0 & 0 & 1 & 1 & 0 & 1 & 1 & 1 & 0 & 0 & 0 & 0 & 0 & 1 & 0\\\\\n",
       "\t 1 & 1 & 0 & 0 & 0 & 1 & 0 & 0 & 0 & 1 & 1 & 0 & 1 & 1 & 1\\\\\n",
       "\t 0 & 0 & 1 & 1 & 0 & 1 & 0 & 0 & 0 & 1 & 0 & 0 & 1 & 0 & 1\\\\\n",
       "\t 0 & 0 & 1 & 1 & 0 & 1 & 1 & 0 & 0 & 0 & 0 & 1 & 0 & 1 & 0\\\\\n",
       "\t 0 & 0 & 0 & 0 & 0 & 1 & 1 & 1 & 0 & 0 & 0 & 1 & 0 & 0 & 0\\\\\n",
       "\t 0 & 1 & 0 & 1 & 0 & 0 & 1 & 0 & 1 & 1 & 0 & 1 & 0 & 1 & 0\\\\\n",
       "\t 0 & 1 & 0 & 1 & 0 & 1 & 1 & 1 & 1 & 1 & 0 & 0 & 0 & 0 & 1\\\\\n",
       "\t 1 & 0 & 0 & 0 & 1 & 0 & 0 & 0 & 1 & 1 & 0 & 0 & 0 & 1 & 1\\\\\n",
       "\\end{tabular}\n"
      ],
      "text/markdown": [
       "\n",
       "A tibble: 15 × 15\n",
       "\n",
       "| ...1 &lt;dbl&gt; | ...2 &lt;dbl&gt; | ...3 &lt;dbl&gt; | ...4 &lt;dbl&gt; | ...5 &lt;dbl&gt; | ...6 &lt;dbl&gt; | ...7 &lt;dbl&gt; | ...8 &lt;dbl&gt; | ...9 &lt;dbl&gt; | ...10 &lt;dbl&gt; | ...11 &lt;dbl&gt; | ...12 &lt;dbl&gt; | ...13 &lt;dbl&gt; | ...14 &lt;dbl&gt; | ...15 &lt;dbl&gt; |\n",
       "|---|---|---|---|---|---|---|---|---|---|---|---|---|---|---|\n",
       "| 1 | 0 | 1 | 1 | 1 | 0 | 1 | 1 | 0 | 0 | 1 | 0 | 0 | 0 | 1 |\n",
       "| 1 | 0 | 1 | 1 | 0 | 1 | 1 | 0 | 0 | 1 | 1 | 1 | 1 | 0 | 1 |\n",
       "| 1 | 0 | 0 | 0 | 1 | 0 | 1 | 0 | 1 | 1 | 0 | 1 | 0 | 0 | 0 |\n",
       "| 1 | 1 | 0 | 1 | 1 | 0 | 1 | 1 | 1 | 0 | 1 | 1 | 1 | 1 | 0 |\n",
       "| 1 | 0 | 0 | 1 | 1 | 0 | 0 | 0 | 1 | 1 | 0 | 1 | 1 | 1 | 0 |\n",
       "| 0 | 0 | 1 | 1 | 1 | 0 | 1 | 1 | 1 | 1 | 0 | 1 | 1 | 0 | 1 |\n",
       "| 1 | 1 | 0 | 1 | 0 | 1 | 0 | 1 | 0 | 0 | 0 | 0 | 0 | 0 | 1 |\n",
       "| 0 | 0 | 1 | 1 | 0 | 1 | 1 | 1 | 0 | 0 | 0 | 0 | 0 | 1 | 0 |\n",
       "| 1 | 1 | 0 | 0 | 0 | 1 | 0 | 0 | 0 | 1 | 1 | 0 | 1 | 1 | 1 |\n",
       "| 0 | 0 | 1 | 1 | 0 | 1 | 0 | 0 | 0 | 1 | 0 | 0 | 1 | 0 | 1 |\n",
       "| 0 | 0 | 1 | 1 | 0 | 1 | 1 | 0 | 0 | 0 | 0 | 1 | 0 | 1 | 0 |\n",
       "| 0 | 0 | 0 | 0 | 0 | 1 | 1 | 1 | 0 | 0 | 0 | 1 | 0 | 0 | 0 |\n",
       "| 0 | 1 | 0 | 1 | 0 | 0 | 1 | 0 | 1 | 1 | 0 | 1 | 0 | 1 | 0 |\n",
       "| 0 | 1 | 0 | 1 | 0 | 1 | 1 | 1 | 1 | 1 | 0 | 0 | 0 | 0 | 1 |\n",
       "| 1 | 0 | 0 | 0 | 1 | 0 | 0 | 0 | 1 | 1 | 0 | 0 | 0 | 1 | 1 |\n",
       "\n"
      ],
      "text/plain": [
       "   ...1 ...2 ...3 ...4 ...5 ...6 ...7 ...8 ...9 ...10 ...11 ...12 ...13 ...14\n",
       "1  1    0    1    1    1    0    1    1    0    0     1     0     0     0    \n",
       "2  1    0    1    1    0    1    1    0    0    1     1     1     1     0    \n",
       "3  1    0    0    0    1    0    1    0    1    1     0     1     0     0    \n",
       "4  1    1    0    1    1    0    1    1    1    0     1     1     1     1    \n",
       "5  1    0    0    1    1    0    0    0    1    1     0     1     1     1    \n",
       "6  0    0    1    1    1    0    1    1    1    1     0     1     1     0    \n",
       "7  1    1    0    1    0    1    0    1    0    0     0     0     0     0    \n",
       "8  0    0    1    1    0    1    1    1    0    0     0     0     0     1    \n",
       "9  1    1    0    0    0    1    0    0    0    1     1     0     1     1    \n",
       "10 0    0    1    1    0    1    0    0    0    1     0     0     1     0    \n",
       "11 0    0    1    1    0    1    1    0    0    0     0     1     0     1    \n",
       "12 0    0    0    0    0    1    1    1    0    0     0     1     0     0    \n",
       "13 0    1    0    1    0    0    1    0    1    1     0     1     0     1    \n",
       "14 0    1    0    1    0    1    1    1    1    1     0     0     0     0    \n",
       "15 1    0    0    0    1    0    0    0    1    1     0     0     0     1    \n",
       "   ...15\n",
       "1  1    \n",
       "2  1    \n",
       "3  0    \n",
       "4  0    \n",
       "5  0    \n",
       "6  1    \n",
       "7  1    \n",
       "8  0    \n",
       "9  1    \n",
       "10 1    \n",
       "11 0    \n",
       "12 0    \n",
       "13 0    \n",
       "14 1    \n",
       "15 1    "
      ]
     },
     "metadata": {},
     "output_type": "display_data"
    }
   ],
   "source": [
    "# load data using read table function\n",
    "data = read_xlsx(\"ROC.xlsm\", sheet = \"ROC\", col_names = F)\n",
    "\n",
    "# view data\n",
    "data"
   ]
  },
  {
   "cell_type": "markdown",
   "metadata": {},
   "source": [
    "#### Perform ROC algorithm on data"
   ]
  },
  {
   "cell_type": "code",
   "execution_count": 13,
   "metadata": {},
   "outputs": [
    {
     "data": {
      "text/html": [
       "<table>\n",
       "<caption>A data.frame: 16 × 16</caption>\n",
       "<thead>\n",
       "\t<tr><th></th><th scope=col>1</th><th scope=col>2</th><th scope=col>4</th><th scope=col>8</th><th scope=col>11</th><th scope=col>13</th><th scope=col>14</th><th scope=col>7</th><th scope=col>5</th><th scope=col>12</th><th scope=col>9</th><th scope=col>15</th><th scope=col>6</th><th scope=col>10</th><th scope=col>3</th><th scope=col>V16</th></tr>\n",
       "\t<tr><th></th><th scope=col>&lt;dbl&gt;</th><th scope=col>&lt;dbl&gt;</th><th scope=col>&lt;dbl&gt;</th><th scope=col>&lt;dbl&gt;</th><th scope=col>&lt;dbl&gt;</th><th scope=col>&lt;dbl&gt;</th><th scope=col>&lt;dbl&gt;</th><th scope=col>&lt;dbl&gt;</th><th scope=col>&lt;dbl&gt;</th><th scope=col>&lt;dbl&gt;</th><th scope=col>&lt;dbl&gt;</th><th scope=col>&lt;dbl&gt;</th><th scope=col>&lt;dbl&gt;</th><th scope=col>&lt;dbl&gt;</th><th scope=col>&lt;dbl&gt;</th><th scope=col>&lt;dbl&gt;</th></tr>\n",
       "</thead>\n",
       "<tbody>\n",
       "\t<tr><th scope=row>4</th><td>    1</td><td>    1</td><td>    1</td><td>    1</td><td>    1</td><td>    1</td><td>    1</td><td>    1</td><td>    1</td><td>    1</td><td>    1</td><td>    0</td><td>    0</td><td>   0</td><td>   0</td><td>32752</td></tr>\n",
       "\t<tr><th scope=row>7</th><td>    1</td><td>    1</td><td>    1</td><td>    1</td><td>    0</td><td>    0</td><td>    0</td><td>    0</td><td>    0</td><td>    0</td><td>    0</td><td>    1</td><td>    1</td><td>   0</td><td>   0</td><td>30732</td></tr>\n",
       "\t<tr><th scope=row>9</th><td>    1</td><td>    1</td><td>    0</td><td>    0</td><td>    1</td><td>    1</td><td>    1</td><td>    0</td><td>    0</td><td>    0</td><td>    0</td><td>    1</td><td>    1</td><td>   1</td><td>   0</td><td>26382</td></tr>\n",
       "\t<tr><th scope=row>1</th><td>    1</td><td>    0</td><td>    1</td><td>    1</td><td>    1</td><td>    0</td><td>    0</td><td>    1</td><td>    1</td><td>    0</td><td>    0</td><td>    1</td><td>    0</td><td>   0</td><td>   1</td><td>23753</td></tr>\n",
       "\t<tr><th scope=row>2</th><td>    1</td><td>    0</td><td>    1</td><td>    0</td><td>    1</td><td>    1</td><td>    0</td><td>    1</td><td>    0</td><td>    1</td><td>    0</td><td>    1</td><td>    1</td><td>   1</td><td>   1</td><td>22191</td></tr>\n",
       "\t<tr><th scope=row>5</th><td>    1</td><td>    0</td><td>    1</td><td>    0</td><td>    0</td><td>    1</td><td>    1</td><td>    0</td><td>    1</td><td>    1</td><td>    1</td><td>    0</td><td>    0</td><td>   1</td><td>   0</td><td>21362</td></tr>\n",
       "\t<tr><th scope=row>15</th><td>    1</td><td>    0</td><td>    0</td><td>    0</td><td>    0</td><td>    0</td><td>    1</td><td>    0</td><td>    1</td><td>    0</td><td>    1</td><td>    1</td><td>    0</td><td>   1</td><td>   0</td><td>16730</td></tr>\n",
       "\t<tr><th scope=row>3</th><td>    1</td><td>    0</td><td>    0</td><td>    0</td><td>    0</td><td>    0</td><td>    0</td><td>    1</td><td>    1</td><td>    1</td><td>    1</td><td>    0</td><td>    0</td><td>   1</td><td>   0</td><td>16626</td></tr>\n",
       "\t<tr><th scope=row>14</th><td>    0</td><td>    1</td><td>    1</td><td>    1</td><td>    0</td><td>    0</td><td>    0</td><td>    1</td><td>    0</td><td>    0</td><td>    1</td><td>    1</td><td>    1</td><td>   1</td><td>   0</td><td>14494</td></tr>\n",
       "\t<tr><th scope=row>13</th><td>    0</td><td>    1</td><td>    1</td><td>    0</td><td>    0</td><td>    0</td><td>    1</td><td>    1</td><td>    0</td><td>    1</td><td>    1</td><td>    0</td><td>    0</td><td>   1</td><td>   0</td><td>12722</td></tr>\n",
       "\t<tr><th scope=row>6</th><td>    0</td><td>    0</td><td>    1</td><td>    1</td><td>    0</td><td>    1</td><td>    0</td><td>    1</td><td>    1</td><td>    1</td><td>    1</td><td>    1</td><td>    0</td><td>   1</td><td>   1</td><td> 6907</td></tr>\n",
       "\t<tr><th scope=row>8</th><td>    0</td><td>    0</td><td>    1</td><td>    1</td><td>    0</td><td>    0</td><td>    1</td><td>    1</td><td>    0</td><td>    0</td><td>    0</td><td>    0</td><td>    1</td><td>   0</td><td>   1</td><td> 6533</td></tr>\n",
       "\t<tr><th scope=row>10</th><td>    0</td><td>    0</td><td>    1</td><td>    0</td><td>    0</td><td>    1</td><td>    0</td><td>    0</td><td>    0</td><td>    0</td><td>    0</td><td>    1</td><td>    1</td><td>   1</td><td>   1</td><td> 4623</td></tr>\n",
       "\t<tr><th scope=row>11</th><td>    0</td><td>    0</td><td>    1</td><td>    0</td><td>    0</td><td>    0</td><td>    1</td><td>    1</td><td>    0</td><td>    1</td><td>    0</td><td>    0</td><td>    1</td><td>   0</td><td>   1</td><td> 4517</td></tr>\n",
       "\t<tr><th scope=row>12</th><td>    0</td><td>    0</td><td>    0</td><td>    1</td><td>    0</td><td>    0</td><td>    0</td><td>    1</td><td>    0</td><td>    1</td><td>    0</td><td>    0</td><td>    1</td><td>   0</td><td>   0</td><td> 2212</td></tr>\n",
       "\t<tr><th scope=row>16</th><td>32640</td><td>28768</td><td>28286</td><td>26713</td><td>23552</td><td>22036</td><td>21290</td><td>19707</td><td>19344</td><td>18099</td><td>17392</td><td>15700</td><td>13391</td><td>6132</td><td>3102</td><td>   NA</td></tr>\n",
       "</tbody>\n",
       "</table>\n"
      ],
      "text/latex": [
       "A data.frame: 16 × 16\n",
       "\\begin{tabular}{r|llllllllllllllll}\n",
       "  & 1 & 2 & 4 & 8 & 11 & 13 & 14 & 7 & 5 & 12 & 9 & 15 & 6 & 10 & 3 & V16\\\\\n",
       "  & <dbl> & <dbl> & <dbl> & <dbl> & <dbl> & <dbl> & <dbl> & <dbl> & <dbl> & <dbl> & <dbl> & <dbl> & <dbl> & <dbl> & <dbl> & <dbl>\\\\\n",
       "\\hline\n",
       "\t4 &     1 &     1 &     1 &     1 &     1 &     1 &     1 &     1 &     1 &     1 &     1 &     0 &     0 &    0 &    0 & 32752\\\\\n",
       "\t7 &     1 &     1 &     1 &     1 &     0 &     0 &     0 &     0 &     0 &     0 &     0 &     1 &     1 &    0 &    0 & 30732\\\\\n",
       "\t9 &     1 &     1 &     0 &     0 &     1 &     1 &     1 &     0 &     0 &     0 &     0 &     1 &     1 &    1 &    0 & 26382\\\\\n",
       "\t1 &     1 &     0 &     1 &     1 &     1 &     0 &     0 &     1 &     1 &     0 &     0 &     1 &     0 &    0 &    1 & 23753\\\\\n",
       "\t2 &     1 &     0 &     1 &     0 &     1 &     1 &     0 &     1 &     0 &     1 &     0 &     1 &     1 &    1 &    1 & 22191\\\\\n",
       "\t5 &     1 &     0 &     1 &     0 &     0 &     1 &     1 &     0 &     1 &     1 &     1 &     0 &     0 &    1 &    0 & 21362\\\\\n",
       "\t15 &     1 &     0 &     0 &     0 &     0 &     0 &     1 &     0 &     1 &     0 &     1 &     1 &     0 &    1 &    0 & 16730\\\\\n",
       "\t3 &     1 &     0 &     0 &     0 &     0 &     0 &     0 &     1 &     1 &     1 &     1 &     0 &     0 &    1 &    0 & 16626\\\\\n",
       "\t14 &     0 &     1 &     1 &     1 &     0 &     0 &     0 &     1 &     0 &     0 &     1 &     1 &     1 &    1 &    0 & 14494\\\\\n",
       "\t13 &     0 &     1 &     1 &     0 &     0 &     0 &     1 &     1 &     0 &     1 &     1 &     0 &     0 &    1 &    0 & 12722\\\\\n",
       "\t6 &     0 &     0 &     1 &     1 &     0 &     1 &     0 &     1 &     1 &     1 &     1 &     1 &     0 &    1 &    1 &  6907\\\\\n",
       "\t8 &     0 &     0 &     1 &     1 &     0 &     0 &     1 &     1 &     0 &     0 &     0 &     0 &     1 &    0 &    1 &  6533\\\\\n",
       "\t10 &     0 &     0 &     1 &     0 &     0 &     1 &     0 &     0 &     0 &     0 &     0 &     1 &     1 &    1 &    1 &  4623\\\\\n",
       "\t11 &     0 &     0 &     1 &     0 &     0 &     0 &     1 &     1 &     0 &     1 &     0 &     0 &     1 &    0 &    1 &  4517\\\\\n",
       "\t12 &     0 &     0 &     0 &     1 &     0 &     0 &     0 &     1 &     0 &     1 &     0 &     0 &     1 &    0 &    0 &  2212\\\\\n",
       "\t16 & 32640 & 28768 & 28286 & 26713 & 23552 & 22036 & 21290 & 19707 & 19344 & 18099 & 17392 & 15700 & 13391 & 6132 & 3102 &    NA\\\\\n",
       "\\end{tabular}\n"
      ],
      "text/markdown": [
       "\n",
       "A data.frame: 16 × 16\n",
       "\n",
       "| <!--/--> | 1 &lt;dbl&gt; | 2 &lt;dbl&gt; | 4 &lt;dbl&gt; | 8 &lt;dbl&gt; | 11 &lt;dbl&gt; | 13 &lt;dbl&gt; | 14 &lt;dbl&gt; | 7 &lt;dbl&gt; | 5 &lt;dbl&gt; | 12 &lt;dbl&gt; | 9 &lt;dbl&gt; | 15 &lt;dbl&gt; | 6 &lt;dbl&gt; | 10 &lt;dbl&gt; | 3 &lt;dbl&gt; | V16 &lt;dbl&gt; |\n",
       "|---|---|---|---|---|---|---|---|---|---|---|---|---|---|---|---|---|\n",
       "| 4 |     1 |     1 |     1 |     1 |     1 |     1 |     1 |     1 |     1 |     1 |     1 |     0 |     0 |    0 |    0 | 32752 |\n",
       "| 7 |     1 |     1 |     1 |     1 |     0 |     0 |     0 |     0 |     0 |     0 |     0 |     1 |     1 |    0 |    0 | 30732 |\n",
       "| 9 |     1 |     1 |     0 |     0 |     1 |     1 |     1 |     0 |     0 |     0 |     0 |     1 |     1 |    1 |    0 | 26382 |\n",
       "| 1 |     1 |     0 |     1 |     1 |     1 |     0 |     0 |     1 |     1 |     0 |     0 |     1 |     0 |    0 |    1 | 23753 |\n",
       "| 2 |     1 |     0 |     1 |     0 |     1 |     1 |     0 |     1 |     0 |     1 |     0 |     1 |     1 |    1 |    1 | 22191 |\n",
       "| 5 |     1 |     0 |     1 |     0 |     0 |     1 |     1 |     0 |     1 |     1 |     1 |     0 |     0 |    1 |    0 | 21362 |\n",
       "| 15 |     1 |     0 |     0 |     0 |     0 |     0 |     1 |     0 |     1 |     0 |     1 |     1 |     0 |    1 |    0 | 16730 |\n",
       "| 3 |     1 |     0 |     0 |     0 |     0 |     0 |     0 |     1 |     1 |     1 |     1 |     0 |     0 |    1 |    0 | 16626 |\n",
       "| 14 |     0 |     1 |     1 |     1 |     0 |     0 |     0 |     1 |     0 |     0 |     1 |     1 |     1 |    1 |    0 | 14494 |\n",
       "| 13 |     0 |     1 |     1 |     0 |     0 |     0 |     1 |     1 |     0 |     1 |     1 |     0 |     0 |    1 |    0 | 12722 |\n",
       "| 6 |     0 |     0 |     1 |     1 |     0 |     1 |     0 |     1 |     1 |     1 |     1 |     1 |     0 |    1 |    1 |  6907 |\n",
       "| 8 |     0 |     0 |     1 |     1 |     0 |     0 |     1 |     1 |     0 |     0 |     0 |     0 |     1 |    0 |    1 |  6533 |\n",
       "| 10 |     0 |     0 |     1 |     0 |     0 |     1 |     0 |     0 |     0 |     0 |     0 |     1 |     1 |    1 |    1 |  4623 |\n",
       "| 11 |     0 |     0 |     1 |     0 |     0 |     0 |     1 |     1 |     0 |     1 |     0 |     0 |     1 |    0 |    1 |  4517 |\n",
       "| 12 |     0 |     0 |     0 |     1 |     0 |     0 |     0 |     1 |     0 |     1 |     0 |     0 |     1 |    0 |    0 |  2212 |\n",
       "| 16 | 32640 | 28768 | 28286 | 26713 | 23552 | 22036 | 21290 | 19707 | 19344 | 18099 | 17392 | 15700 | 13391 | 6132 | 3102 |    NA |\n",
       "\n"
      ],
      "text/plain": [
       "   1     2     4     8     11    13    14    7     5     12    9     15   \n",
       "4      1     1     1     1     1     1     1     1     1     1     1     0\n",
       "7      1     1     1     1     0     0     0     0     0     0     0     1\n",
       "9      1     1     0     0     1     1     1     0     0     0     0     1\n",
       "1      1     0     1     1     1     0     0     1     1     0     0     1\n",
       "2      1     0     1     0     1     1     0     1     0     1     0     1\n",
       "5      1     0     1     0     0     1     1     0     1     1     1     0\n",
       "15     1     0     0     0     0     0     1     0     1     0     1     1\n",
       "3      1     0     0     0     0     0     0     1     1     1     1     0\n",
       "14     0     1     1     1     0     0     0     1     0     0     1     1\n",
       "13     0     1     1     0     0     0     1     1     0     1     1     0\n",
       "6      0     0     1     1     0     1     0     1     1     1     1     1\n",
       "8      0     0     1     1     0     0     1     1     0     0     0     0\n",
       "10     0     0     1     0     0     1     0     0     0     0     0     1\n",
       "11     0     0     1     0     0     0     1     1     0     1     0     0\n",
       "12     0     0     0     1     0     0     0     1     0     1     0     0\n",
       "16 32640 28768 28286 26713 23552 22036 21290 19707 19344 18099 17392 15700\n",
       "   6     10   3    V16  \n",
       "4      0    0    0 32752\n",
       "7      1    0    0 30732\n",
       "9      1    1    0 26382\n",
       "1      0    0    1 23753\n",
       "2      1    1    1 22191\n",
       "5      0    1    0 21362\n",
       "15     0    1    0 16730\n",
       "3      0    1    0 16626\n",
       "14     1    1    0 14494\n",
       "13     0    1    0 12722\n",
       "6      0    1    1  6907\n",
       "8      1    0    1  6533\n",
       "10     1    1    1  4623\n",
       "11     1    0    1  4517\n",
       "12     1    0    0  2212\n",
       "16 13391 6132 3102    NA"
      ]
     },
     "metadata": {},
     "output_type": "display_data"
    }
   ],
   "source": [
    "data = as.data.frame(data)\n",
    "ROC(data)"
   ]
  }
 ],
 "metadata": {
  "kernelspec": {
   "display_name": "R",
   "language": "R",
   "name": "ir"
  },
  "language_info": {
   "codemirror_mode": "r",
   "file_extension": ".r",
   "mimetype": "text/x-r-source",
   "name": "R",
   "pygments_lexer": "r",
   "version": "3.3.3"
  }
 },
 "nbformat": 4,
 "nbformat_minor": 4
}
